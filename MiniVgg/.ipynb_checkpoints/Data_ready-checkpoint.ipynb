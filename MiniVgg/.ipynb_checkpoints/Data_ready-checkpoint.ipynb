{
 "cells": [
  {
   "cell_type": "code",
   "execution_count": 32,
   "metadata": {},
   "outputs": [],
   "source": [
    "##Test from customize image\n",
    "## importing classes from the file that is located in the different folder\n",
    "import import_ipynb\n",
    "from tensorflow.keras import backend as k\n",
    "from pyimagesearch.minivggnet import MiniVGGNet\n",
    "from keras.preprocessing.image import ImageDataGenerator\n",
    "from keras.preprocessing.image import img_to_array\n",
    "from sklearn.model_selection import train_test_split\n",
    "from keras.optimizers import SGD\n",
    "from keras.models import load_model\n",
    "from sklearn.preprocessing import MultiLabelBinarizer\n",
    "from sklearn.metrics import classification_report\n",
    "from sklearn.utils.multiclass import unique_labels\n",
    "import imutils \n",
    "from imutils import paths\n",
    "from keras.optimizers import Adam\n",
    "import pickle\n",
    "import matplotlib.pyplot as plt\n",
    "import cv2\n",
    "import random\n",
    "import numpy as np\n",
    "import pandas as pd\n",
    "import sys\n",
    "import os"
   ]
  },
  {
   "cell_type": "code",
   "execution_count": 39,
   "metadata": {},
   "outputs": [
    {
     "name": "stdout",
     "output_type": "stream",
     "text": [
      "[INFO] loading images...\n"
     ]
    }
   ],
   "source": [
    "# grab the image paths and randomly shuffle them\n",
    "print(\"[INFO] loading images...\")\n",
    "imagPaths = sorted(list(paths.list_images(\"../Dataset/age_gender\")))\n",
    "#random.seed(42)\n",
    "#random.shuffle(imagePaths)"
   ]
  },
  {
   "cell_type": "code",
   "execution_count": 42,
   "metadata": {},
   "outputs": [
    {
     "ename": "SyntaxError",
     "evalue": "EOL while scanning string literal (<ipython-input-42-ab8913ddb74b>, line 3)",
     "output_type": "error",
     "traceback": [
      "\u001b[1;36m  File \u001b[1;32m\"<ipython-input-42-ab8913ddb74b>\"\u001b[1;36m, line \u001b[1;32m3\u001b[0m\n\u001b[1;33m    age = path.split(os.path.sep)[-2].split(\"\\\")\u001b[0m\n\u001b[1;37m                                                ^\u001b[0m\n\u001b[1;31mSyntaxError\u001b[0m\u001b[1;31m:\u001b[0m EOL while scanning string literal\n"
     ]
    }
   ],
   "source": [
    "path=imagPaths[0]\n",
    "print(path)\n",
    "age = path.split(os.path.sep)[-2].split(\"\\\")\n",
    "print(age)"
   ]
  },
  {
   "cell_type": "code",
   "execution_count": 19,
   "metadata": {},
   "outputs": [],
   "source": [
    "# initialize the data and labels\n",
    "datavalue = []\n",
    "labels = []\n",
    "image_size=(75,75)\n",
    "\n",
    "# loop over the input images\n",
    "for imagePath in imagePaths:\n",
    "\t# load the image, pre-process it, and store it in the data list\n",
    "\timage = cv2.imread(imagePath)  \n",
    "\timage = cv2.resize(image, image_size)\n",
    "\timage = img_to_array(image)\n",
    "\tdatavalue.append(image)\n",
    "\n",
    "\t# extract set of class labels from the image path and update the\n",
    "\t# labels list\n",
    "\tl1 = label1 = imagePath.split(os.path.sep)[-3].split(\"_\")\n",
    "\tlabels.append(l1)    \n",
    "\tl2 = label2 = imagePath.split(os.path.sep)[-2].split(\"_\")    \n",
    "\tlabels.append(l2)"
   ]
  },
  {
   "cell_type": "code",
   "execution_count": null,
   "metadata": {},
   "outputs": [],
   "source": [
    "# scale the raw pixel intensities to the range [0, 1]\n",
    "datavalue = np.array(datavalue, dtype=\"float\") / 255.0\n",
    "datavalue = datavalue - 0.5\n",
    "datavalue = datavalue* 2.0"
   ]
  },
  {
   "cell_type": "code",
   "execution_count": null,
   "metadata": {},
   "outputs": [],
   "source": [
    "## Save the data and label as pickel\n",
    "import pickle\n",
    "\n",
    "f = open(\"../pickle/X_ocsv4_75.pickle\", \"wb\")\n",
    "f.write(pickle.dumps(datavalue))\n",
    "f.close()"
   ]
  }
 ],
 "metadata": {
  "kernelspec": {
   "display_name": "Python 3.6 (tensorflow)",
   "language": "python",
   "name": "tensorflow"
  },
  "language_info": {
   "codemirror_mode": {
    "name": "ipython",
    "version": 3
   },
   "file_extension": ".py",
   "mimetype": "text/x-python",
   "name": "python",
   "nbconvert_exporter": "python",
   "pygments_lexer": "ipython3",
   "version": "3.6.8"
  }
 },
 "nbformat": 4,
 "nbformat_minor": 2
}
