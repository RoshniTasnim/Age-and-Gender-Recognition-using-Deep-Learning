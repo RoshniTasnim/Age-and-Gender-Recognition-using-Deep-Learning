{
 "cells": [
  {
   "cell_type": "code",
   "execution_count": 2,
   "metadata": {
    "scrolled": true
   },
   "outputs": [
    {
     "ename": "NameError",
     "evalue": "name 'LearningRateDecay' is not defined",
     "output_type": "error",
     "traceback": [
      "\u001b[1;31m---------------------------------------------------------------------------\u001b[0m",
      "\u001b[1;31mNameError\u001b[0m                                 Traceback (most recent call last)",
      "\u001b[1;32m<ipython-input-2-621fa22f8989>\u001b[0m in \u001b[0;36m<module>\u001b[1;34m\u001b[0m\n\u001b[1;32m----> 1\u001b[1;33m \u001b[1;32mclass\u001b[0m \u001b[0mStepDecay\u001b[0m\u001b[1;33m(\u001b[0m\u001b[0mLearningRateDecay\u001b[0m\u001b[1;33m)\u001b[0m\u001b[1;33m:\u001b[0m\u001b[1;33m\u001b[0m\u001b[1;33m\u001b[0m\u001b[0m\n\u001b[0m\u001b[0;32m      2\u001b[0m         \u001b[1;32mdef\u001b[0m \u001b[0m__init__\u001b[0m\u001b[1;33m(\u001b[0m\u001b[0mself\u001b[0m\u001b[1;33m,\u001b[0m \u001b[0minitAlpha\u001b[0m\u001b[1;33m=\u001b[0m\u001b[1;36m0.01\u001b[0m\u001b[1;33m,\u001b[0m \u001b[0mfactor\u001b[0m\u001b[1;33m=\u001b[0m\u001b[1;36m0.25\u001b[0m\u001b[1;33m,\u001b[0m \u001b[0mdropEvery\u001b[0m\u001b[1;33m=\u001b[0m\u001b[1;36m10\u001b[0m\u001b[1;33m)\u001b[0m\u001b[1;33m:\u001b[0m\u001b[1;33m\u001b[0m\u001b[1;33m\u001b[0m\u001b[0m\n\u001b[0;32m      3\u001b[0m                 \u001b[1;31m# store the base initial learning rate, drop factor, and\u001b[0m\u001b[1;33m\u001b[0m\u001b[1;33m\u001b[0m\u001b[1;33m\u001b[0m\u001b[0m\n\u001b[0;32m      4\u001b[0m                 \u001b[1;31m# epochs to drop every\u001b[0m\u001b[1;33m\u001b[0m\u001b[1;33m\u001b[0m\u001b[1;33m\u001b[0m\u001b[0m\n\u001b[0;32m      5\u001b[0m                 \u001b[0mself\u001b[0m\u001b[1;33m.\u001b[0m\u001b[0minitAlpha\u001b[0m \u001b[1;33m=\u001b[0m \u001b[0minitAlpha\u001b[0m\u001b[1;33m\u001b[0m\u001b[1;33m\u001b[0m\u001b[0m\n",
      "\u001b[1;31mNameError\u001b[0m: name 'LearningRateDecay' is not defined"
     ]
    }
   ],
   "source": [
    "# import the necessary packages\n",
    "import matplotlib.pyplot as plt\n",
    "import numpy as np\n",
    "\n",
    "class LearningRateDecay:\n",
    "\tdef plot(self, epochs, title=\"Learning Rate Schedule\"):\n",
    "\t\t# compute the set of learning rates for each corresponding\n",
    "\t\t# epoch\n",
    "\t\tlrs = [self(i) for i in epochs]\n",
    "\n",
    "\t\t# the learning rate schedule\n",
    "\t\tplt.style.use(\"ggplot\")\n",
    "\t\tplt.figure()\n",
    "\t\tplt.plot(epochs, lrs)\n",
    "\t\tplt.title(title)\n",
    "\t\tplt.xlabel(\"Epoch #\")\n",
    "\t\tplt.ylabel(\"Learning Rate\")\n",
    "\n",
    "class StepDecay(LearningRateDecay):\n",
    "\tdef __init__(self, initAlpha=0.01, factor=0.25, dropEvery=5):\n",
    "\t\t# store the base initial learning rate, drop factor, and\n",
    "\t\t# epochs to drop every\n",
    "\t\tself.initAlpha = initAlpha\n",
    "\t\tself.factor = factor\n",
    "\t\tself.dropEvery = dropEvery\n",
    "\n",
    "\tdef __call__(self, epoch):\n",
    "\t\t# compute the learning rate for the current epoch\n",
    "\t\texp = np.floor((1 + epoch) / self.dropEvery)\n",
    "\t\talpha = self.initAlpha * (self.factor ** exp)\n",
    "\n",
    "\t\t# return the learning rate\n",
    "\t\treturn float(alpha)\n",
    "\n",
    "class PolynomialDecay(LearningRateDecay):\n",
    "\tdef __init__(self, maxEpochs=10, initAlpha=0.01, power=1.0):\n",
    "\t\t# store the maximum number of epochs, base learning rate,\n",
    "\t\t# and power of the polynomial\n",
    "\t\tself.maxEpochs = maxEpochs\n",
    "\t\tself.initAlpha = initAlpha\n",
    "\t\tself.power = power\n",
    "\n",
    "\tdef __call__(self, epoch):\n",
    "\t\t# compute the new learning rate based on polynomial decay\n",
    "\t\tdecay = (1 - (epoch / float(self.maxEpochs))) ** self.power\n",
    "\t\talpha = self.initAlpha * decay\n",
    "\n",
    "\t\t# return the new learning rate\n",
    "\t\treturn float(alpha)\n",
    "\n",
    "if __name__ == \"__main__\":\n",
    "\t# plot a step-based decay which drops by a factor of 0.5 every\n",
    "\t# 25 epochs\n",
    "\tsd = StepDecay(initAlpha=0.01, factor=0.5, dropEvery=5)\n",
    "\tsd.plot(range(0, 100), title=\"Step-based Decay\")\n",
    "\tplt.show()\n",
    "\n",
    "\t# plot a linear decay by using a power of 1\n",
    "\tpd = PolynomialDecay(power=1)\n",
    "\tpd.plot(range(0, 100), title=\"Linear Decay (p=1)\")\n",
    "\tplt.show()\n",
    "\n",
    "\t# show a polynomial decay with a steeper drop by increasing the\n",
    "\t# power value\n",
    "\tpd = PolynomialDecay(power=5)\n",
    "\tpd.plot(range(0, 100), title=\"Polynomial Decay (p=5)\")\n",
    "\tplt.show()"
   ]
  },
  {
   "cell_type": "code",
   "execution_count": null,
   "metadata": {},
   "outputs": [],
   "source": []
  }
 ],
 "metadata": {
  "kernelspec": {
   "display_name": "Python 3",
   "language": "python",
   "name": "python3"
  },
  "language_info": {
   "codemirror_mode": {
    "name": "ipython",
    "version": 3
   },
   "file_extension": ".py",
   "mimetype": "text/x-python",
   "name": "python",
   "nbconvert_exporter": "python",
   "pygments_lexer": "ipython3",
   "version": "3.7.3"
  }
 },
 "nbformat": 4,
 "nbformat_minor": 2
}
