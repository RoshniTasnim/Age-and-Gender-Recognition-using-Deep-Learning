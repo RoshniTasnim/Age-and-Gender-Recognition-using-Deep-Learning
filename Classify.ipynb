{
 "cells": [
  {
   "cell_type": "code",
   "execution_count": 1,
   "metadata": {
    "colab": {},
    "colab_type": "code",
    "id": "OHvS5GCnPBCx"
   },
   "outputs": [
    {
     "name": "stderr",
     "output_type": "stream",
     "text": [
      "Using TensorFlow backend.\n"
     ]
    }
   ],
   "source": [
    "# import the necessary packages\n",
    "from keras.preprocessing.image import img_to_array\n",
    "from keras.models import load_model\n",
    "from keras.preprocessing.image import save_img\n",
    "import imutils\n",
    "import numpy as np\n",
    "import pickle\n",
    "import cv2\n",
    "import matplotlib.pyplot as plt\n",
    "import os"
   ]
  },
  {
   "cell_type": "code",
   "execution_count": 2,
   "metadata": {
    "colab": {
     "base_uri": "https://localhost:8080/",
     "height": 268
    },
    "colab_type": "code",
    "executionInfo": {
     "elapsed": 1665,
     "status": "ok",
     "timestamp": 1578161624670,
     "user": {
      "displayName": "Roshni Tasnim",
      "photoUrl": "https://lh3.googleusercontent.com/a-/AAuE7mCuMpuoKsxo9gVpwYnIs9GOiAjEKv-QEmhe0wtJ=s64",
      "userId": "14206535820304791075"
     },
     "user_tz": -360
    },
    "id": "DW5cYxEjiN0n",
    "outputId": "33a4b6ec-480e-4c82-b2d3-22addffabdfa"
   },
   "outputs": [],
   "source": [
    "image = cv2.imread('Dataset/example/correct/(8,12)_m_ 5.jpg',1)\n",
    "image = cv2.resize(image,(75, 75))\n",
    "output = imutils.resize(image, width=400)\n",
    "\n",
    "\n",
    "\n",
    "image = np.expand_dims(image, axis=0)"
   ]
  },
  {
   "cell_type": "code",
   "execution_count": 3,
   "metadata": {
    "colab": {
     "base_uri": "https://localhost:8080/",
     "height": 700
    },
    "colab_type": "code",
    "executionInfo": {
     "elapsed": 8317,
     "status": "ok",
     "timestamp": 1578154415594,
     "user": {
      "displayName": "Roshni Tasnim",
      "photoUrl": "https://lh3.googleusercontent.com/a-/AAuE7mCuMpuoKsxo9gVpwYnIs9GOiAjEKv-QEmhe0wtJ=s64",
      "userId": "14206535820304791075"
     },
     "user_tz": -360
    },
    "id": "Boa9Of9QiQ06",
    "outputId": "b58ee963-0dfa-4b23-d3a2-2fa08ab526ed"
   },
   "outputs": [
    {
     "name": "stdout",
     "output_type": "stream",
     "text": [
      "[INFO] loading network...\n"
     ]
    },
    {
     "name": "stderr",
     "output_type": "stream",
     "text": [
      "C:\\Users\\Roshni\\Anaconda3\\envs\\tensorflow\\lib\\site-packages\\sklearn\\base.py:306: UserWarning: Trying to unpickle estimator MultiLabelBinarizer from version 0.21.3 when using version 0.21.2. This might lead to breaking code or invalid results. Use at your own risk.\n",
      "  UserWarning)\n"
     ]
    }
   ],
   "source": [
    "# load the trained convolutional neural network and the multi-label\n",
    "# binarizer\n",
    "print(\"[INFO] loading network...\")\n",
    "model = load_model(\"NewNet8/Models/NewNet8_V2_img75_50Epo_94_92va.model\")\n",
    "mlb = pickle.loads(open(\"pickle/image_pickle/mlb_75.pickle\", \"rb\").read())"
   ]
  },
  {
   "cell_type": "code",
   "execution_count": 4,
   "metadata": {
    "colab": {
     "base_uri": "https://localhost:8080/",
     "height": 204
    },
    "colab_type": "code",
    "executionInfo": {
     "elapsed": 1174,
     "status": "ok",
     "timestamp": 1578161632472,
     "user": {
      "displayName": "Roshni Tasnim",
      "photoUrl": "https://lh3.googleusercontent.com/a-/AAuE7mCuMpuoKsxo9gVpwYnIs9GOiAjEKv-QEmhe0wtJ=s64",
      "userId": "14206535820304791075"
     },
     "user_tz": -360
    },
    "id": "cJ4VrK7ajAyU",
    "outputId": "2919fc32-c8fc-4fdf-d74d-0e695d676774"
   },
   "outputs": [
    {
     "name": "stdout",
     "output_type": "stream",
     "text": [
      "[INFO] classifying image...\n",
      "(0, 2): 2.17%\n",
      "(15, 20): 19.48%\n",
      "(25, 32): 14.89%\n",
      "(38, 43): 4.14%\n",
      "(4, 6): 3.42%\n",
      "(48, 53): 14.22%\n",
      "(60, 100): 1.05%\n",
      "(8, 12): 53.80%\n",
      "f: 68.06%\n",
      "m: 31.97%\n"
     ]
    }
   ],
   "source": [
    "# classify the input image then find the indexes of the two class\n",
    "# labels with the *largest* probability\n",
    "print(\"[INFO] classifying image...\")\n",
    "proba = model.predict(image)[0]\n",
    "idxs = np.argsort(proba)[::-1][:2]\n",
    "\n",
    "\n",
    "# loop over the indexes of the high confidence class labels\n",
    "for (i, j) in enumerate(idxs):\n",
    "\t# build the label and draw the label on the image\n",
    "\tlabel = \"{}: {:.2f}%\".format(mlb.classes_[j], proba[j] * 100)\n",
    "\tcv2.putText(output, label, (10, (i * 30) + 25), \n",
    "\t\tcv2.FONT_HERSHEY_SIMPLEX, 0.7, (0, 255, 0), 2)\n",
    "\n",
    "# show the probabilities for each of the individual labels\n",
    "for (label, p) in zip(mlb.classes_, proba):\n",
    "\tprint(\"{}: {:.2f}%\".format(label, p * 100))"
   ]
  },
  {
   "cell_type": "code",
   "execution_count": 5,
   "metadata": {
    "colab": {},
    "colab_type": "code",
    "id": "9LJihe8VjBnV"
   },
   "outputs": [
    {
     "data": {
      "text/plain": [
       "-1"
      ]
     },
     "execution_count": 5,
     "metadata": {},
     "output_type": "execute_result"
    }
   ],
   "source": [
    "# show the output image\n",
    "cv2.imshow(\"Output\", output)\n",
    "cv2.waitKey(0)"
   ]
  },
  {
   "cell_type": "code",
   "execution_count": 126,
   "metadata": {
    "colab": {
     "base_uri": "https://localhost:8080/",
     "height": 294
    },
    "colab_type": "code",
    "executionInfo": {
     "elapsed": 1267,
     "status": "ok",
     "timestamp": 1578159858649,
     "user": {
      "displayName": "Roshni Tasnim",
      "photoUrl": "https://lh3.googleusercontent.com/a-/AAuE7mCuMpuoKsxo9gVpwYnIs9GOiAjEKv-QEmhe0wtJ=s64",
      "userId": "14206535820304791075"
     },
     "user_tz": -360
    },
    "id": "btjzaScsB3Ud",
    "outputId": "d7870891-beaf-4d83-8adf-87188f217688"
   },
   "outputs": [
    {
     "data": {
      "image/png": "[encoded data removed]",
      "text/plain": [
       "<Figure size 432x288 with 1 Axes>"
      ]
     },
     "metadata": {
      "tags": []
     },
     "output_type": "display_data"
    }
   ],
   "source": [
    "import matplotlib.pyplot as plt\n",
    "\n",
    "#plt.figure()\n",
    "index = np.arange(len(mlb.classes_))\n",
    "plt.bar(index, proba)\n",
    "plt.xlabel('Age and Gender Classification', fontsize=10)\n",
    "plt.ylabel('Prediction', fontsize=10)\n",
    "plt.xticks(index, mlb.classes_, fontsize=8, rotation=0)\n",
    "plt.title('Prediction for (48,53) age and male image')\n",
    "plt.show()\n",
    "#plt.savefig(\"25_32_f_3_histogram\")"
   ]
  },
  {
   "cell_type": "code",
   "execution_count": 0,
   "metadata": {
    "colab": {},
    "colab_type": "code",
    "id": "3GuqqHs1YU6d"
   },
   "outputs": [],
   "source": []
  }
 ],
 "metadata": {
  "colab": {
   "collapsed_sections": [],
   "name": "Classify.ipynb",
   "provenance": []
  },
  "kernelspec": {
   "display_name": "Python 3.6 (tensorflow)",
   "language": "python",
   "name": "tensorflow"
  },
  "language_info": {
   "codemirror_mode": {
    "name": "ipython",
    "version": 3
   },
   "file_extension": ".py",
   "mimetype": "text/x-python",
   "name": "python",
   "nbconvert_exporter": "python",
   "pygments_lexer": "ipython3",
   "version": "3.6.8"
  }
 },
 "nbformat": 4,
 "nbformat_minor": 1
}
